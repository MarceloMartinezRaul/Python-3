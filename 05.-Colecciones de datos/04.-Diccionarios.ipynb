{
 "cells": [
  {
   "cell_type": "markdown",
   "metadata": {},
   "source": [
    "# Diccionarios"
   ]
  },
  {
   "cell_type": "markdown",
   "metadata": {},
   "source": [
    "Como sucede con un diccionario convencional, un diccionario en Python es una palabra que tiene asociado algo. Al contrario de lo que sucedía en las listas, los diccionarios no tienen orden.\n",
    "\n",
    "Los diccionarios pueden ser creados colocando una lista separada por coma de pares “key:value” entre {}. {«a»:»Avion», «b»:»Bicicleta»}. Se denominan keys a las «palabras» y values a las «definiciones».  Lógicamente, no puede haber dos keys iguales, aunque sí dos values iguales."
   ]
  },
  {
   "cell_type": "code",
   "execution_count": 1,
   "metadata": {},
   "outputs": [],
   "source": [
    "diccionario = {'Alumno 1':'Nicolas Alejandro', 'Alumno 2':'Luis Fernando', 'Alumno 3':'Jose Antonio'}\n",
    "print(diccionario)"
   ]
  },
  {
   "cell_type": "markdown",
   "metadata": {},
   "source": [
    "Nota: Recuerda que tiene en cuenta las mayúsuculas y las minúsculas."
   ]
  },
  {
   "cell_type": "markdown",
   "metadata": {},
   "source": [
    "Es similar a las listas, con el matiz de que dado que los diccionarios no tienen orden, no tienen funciones en las que se tenga en cuenta la posición."
   ]
  },
  {
   "cell_type": "markdown",
   "metadata": {},
   "source": [
    "### Operaciones más habituales con diccionarios en Python"
   ]
  },
  {
   "cell_type": "markdown",
   "metadata": {},
   "source": [
    "Es similar a las listas, con el matiz de que dado que los diccionarios no tienen orden, no tienen funciones en las que se tenga en cuenta la posición.\n",
    "\n",
    "**diccionario.get(‘key’)**: Devuelve el valor que corresponde con la key introducida.  \n",
    "**diccionario.pop(‘key’)**: Devuelve el valor que corresponde con la key introducida, y luego borra la key y el valor.  \n",
    "**diccionario.update({‘key’:’valor’})**: Inserta una determinada key o actualiza su valor si ya existiera.   \n",
    "**«key» in diccionario**: Devuelve verdadero (True) o falso (False) si la key (no los valores) existe en el diccionario.  \n",
    "**«definicion» in diccionario.values()**: Devuelve verdadero (True) o falso (False) si definición existe en el diccionario (no como key)."
   ]
  },
  {
   "cell_type": "markdown",
   "metadata": {},
   "source": [
    "Poniendo todo esto en ejemplo:"
   ]
  },
  {
   "cell_type": "code",
   "execution_count": 2,
   "metadata": {},
   "outputs": [
    {
     "name": "stdout",
     "output_type": "stream",
     "text": [
      "Nicolas Alejandro\n"
     ]
    }
   ],
   "source": [
    "# get(): Devuelve el valor que corresponde con la key introducida.\n",
    "print(diccionario.get('Alumno 1'))"
   ]
  },
  {
   "cell_type": "code",
   "execution_count": 3,
   "metadata": {},
   "outputs": [
    {
     "name": "stdout",
     "output_type": "stream",
     "text": [
      "Nicolas Alejandro\n"
     ]
    }
   ],
   "source": [
    ">>> # pop(): Devuelve el valor que corresponde con la key introducida, y luego borra la key y el valor.\n",
    ">>> print(diccionario.pop('Alumno 1'))"
   ]
  },
  {
   "cell_type": "code",
   "execution_count": 4,
   "metadata": {},
   "outputs": [
    {
     "name": "stdout",
     "output_type": "stream",
     "text": [
      "{'Alumno 2': 'Luis Fernando', 'Alumno 3': 'Jose Antonio'}\n"
     ]
    }
   ],
   "source": [
    "print(diccionario)"
   ]
  },
  {
   "cell_type": "code",
   "execution_count": 5,
   "metadata": {},
   "outputs": [
    {
     "name": "stdout",
     "output_type": "stream",
     "text": [
      "{'Alumno 2': 'Gabriel Alejandro', 'Alumno 3': 'Jose Antonio', 'Alumno 4': 'David Felipe'}\n"
     ]
    }
   ],
   "source": [
    "# update(): Actualiza el valor de una determinada key o lo crea si no existe.\n",
    "diccionario.update({'Alumno 4':'David Felipe'})\n",
    "diccionario.update({'Alumno 2':'Gabriel Alejandro'})\n",
    "print(diccionario)"
   ]
  },
  {
   "cell_type": "code",
   "execution_count": 6,
   "metadata": {},
   "outputs": [
    {
     "name": "stdout",
     "output_type": "stream",
     "text": [
      "True\n"
     ]
    }
   ],
   "source": [
    "# \"key\" in diccionario: devuelve verdadero (True) o falso (False) si la key existe en el diccionario.\n",
    "print (\"Alumno 2\" in diccionario)"
   ]
  },
  {
   "cell_type": "code",
   "execution_count": 7,
   "metadata": {},
   "outputs": [
    {
     "name": "stdout",
     "output_type": "stream",
     "text": [
      "False\n"
     ]
    }
   ],
   "source": [
    "print (\"alumno 2\" in diccionario)"
   ]
  },
  {
   "cell_type": "code",
   "execution_count": 8,
   "metadata": {},
   "outputs": [
    {
     "name": "stdout",
     "output_type": "stream",
     "text": [
      "False\n"
     ]
    }
   ],
   "source": [
    "print (\"Gabriel Alejandro\" in diccionario)"
   ]
  },
  {
   "cell_type": "code",
   "execution_count": 9,
   "metadata": {},
   "outputs": [
    {
     "name": "stdout",
     "output_type": "stream",
     "text": [
      "True\n"
     ]
    }
   ],
   "source": [
    "# \"definición\" in diccionario.values(): devuelve verdadero (True) o falso (False) si la definición existe en el diccionario.\n",
    "print (\"Gabriel Alejandro\" in diccionario.values())"
   ]
  },
  {
   "cell_type": "code",
   "execution_count": 10,
   "metadata": {},
   "outputs": [],
   "source": [
    "# del diccionario['key']: Elimina el valor (y el key) asociado a la key indicada.\n",
    "del diccionario['Alumno 2']"
   ]
  },
  {
   "cell_type": "code",
   "execution_count": 11,
   "metadata": {},
   "outputs": [
    {
     "name": "stdout",
     "output_type": "stream",
     "text": [
      "{'Alumno 3': 'Jose Antonio', 'Alumno 4': 'David Felipe'}\n"
     ]
    }
   ],
   "source": [
    "print(diccionario)"
   ]
  },
  {
   "cell_type": "markdown",
   "metadata": {},
   "source": [
    "Fuentes:   \n",
    "https://www.tutorialpython.com/listas-en-python/   \n",
    "https://devcode.la/tutoriales/diccionarios-en-python/"
   ]
  }
 ],
 "metadata": {
  "kernelspec": {
   "display_name": "Python 3",
   "language": "python",
   "name": "python3"
  },
  "language_info": {
   "codemirror_mode": {
    "name": "ipython",
    "version": 3
   },
   "file_extension": ".py",
   "mimetype": "text/x-python",
   "name": "python",
   "nbconvert_exporter": "python",
   "pygments_lexer": "ipython3",
   "version": "3.7.3"
  }
 },
 "nbformat": 4,
 "nbformat_minor": 2
}
