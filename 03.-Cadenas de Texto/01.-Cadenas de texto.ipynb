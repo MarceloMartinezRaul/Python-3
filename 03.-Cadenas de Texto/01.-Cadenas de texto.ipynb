{
 "cells": [
  {
   "cell_type": "markdown",
   "metadata": {},
   "source": [
    "# Cadenas de texto"
   ]
  },
  {
   "cell_type": "markdown",
   "metadata": {},
   "source": [
    "Además de números, Python puede manipular cadenas de texto, las cuales pueden ser expresadas de\n",
    "distintas formas. Pueden estar encerradas en comillas simples o dobles:"
   ]
  },
  {
   "cell_type": "code",
   "execution_count": 1,
   "metadata": {
    "scrolled": true
   },
   "outputs": [
    {
     "name": "stdout",
     "output_type": "stream",
     "text": [
      "Texto con comillas simples\n",
      "doesn't\n",
      "doesn't\n",
      "\"Si,\" el dijo.\n",
      "\"Si,\" el dijo.\n",
      "\"Isn't,\" she said.\n",
      "\"Isn't,\" she said.\n"
     ]
    }
   ],
   "source": [
    "print('Texto con comillas simples')\n",
    "print('doesn\\'t')\n",
    "print(\"doesn't\")\n",
    "print('\"Si,\" el dijo.')\n",
    "print(\"\\\"Si,\\\" el dijo.\")\n",
    "print('\"Isn\\'t,\" she said.')\n",
    "print('\"Isn\\'t,\" she said.')"
   ]
  },
  {
   "cell_type": "markdown",
   "metadata": {},
   "source": [
    "Las cadenas de texto literales pueden contener múltiples líneas de distintas formas. Las líneas continuas\n",
    "se pueden usar, con una barra invertida como el último carácter de la línea para indicar que la siguiente\n",
    "línea es la continuación lógica de la línea:"
   ]
  },
  {
   "cell_type": "code",
   "execution_count": 4,
   "metadata": {
    "scrolled": true
   },
   "outputs": [
    {
     "name": "stdout",
     "output_type": "stream",
     "text": [
      "Esta es una larga cadena que contiene\n",
      "varias líneas de texto, tal y como se hace en C.\n",
      " Notar que los espacios en blanco al principio de la linea son significantes.\n"
     ]
    }
   ],
   "source": [
    "hola = \"Esta es una larga cadena que contiene\\n\\\n",
    "varias líneas de texto, tal y como se hace en C.\\n\\\n",
    " Notar que los espacios en blanco al principio de la linea\\\n",
    " son significantes.\"\n",
    "print (hola)"
   ]
  },
  {
   "cell_type": "markdown",
   "metadata": {},
   "source": [
    "Notá que de todas formas se necesita embeber los salto de líneas con \\n; la nueva línea que sigue a la\n",
    "barra invertida final es descartada."
   ]
  },
  {
   "cell_type": "markdown",
   "metadata": {},
   "source": [
    "Las cadenas de texto pueden ser concatenadas (pegadas juntas) con el operador + y repetidas con *:"
   ]
  },
  {
   "cell_type": "code",
   "execution_count": 7,
   "metadata": {},
   "outputs": [
    {
     "name": "stdout",
     "output_type": "stream",
     "text": [
      "AyudaA\n"
     ]
    }
   ],
   "source": [
    "palabra = 'Ayuda' + 'A'\n",
    "print(palabra)"
   ]
  },
  {
   "cell_type": "code",
   "execution_count": 8,
   "metadata": {},
   "outputs": [
    {
     "data": {
      "text/plain": [
       "'<AyudaAAyudaAAyudaAAyudaAAyudaA>'"
      ]
     },
     "execution_count": 8,
     "metadata": {},
     "output_type": "execute_result"
    }
   ],
   "source": [
    "'<' + palabra*5 + '>'"
   ]
  },
  {
   "cell_type": "markdown",
   "metadata": {},
   "source": [
    "Dos cadenas de texto juntas son automáticamente concatenadas; la primer línea del ejemplo anterior\n",
    "podría haber sido escrita palabra = 'Ayuda' 'A'; esto solo funciona con dos literales, no con\n",
    "expresiones arbitrarias:"
   ]
  },
  {
   "cell_type": "code",
   "execution_count": 12,
   "metadata": {},
   "outputs": [
    {
     "name": "stdout",
     "output_type": "stream",
     "text": [
      "cadena\n",
      "cadena\n"
     ]
    }
   ],
   "source": [
    "print ('cad' 'ena') # <- Esto es correcto\n",
    "print ('cad'.strip() + 'ena') # <- Esto es correcto"
   ]
  },
  {
   "cell_type": "code",
   "execution_count": 14,
   "metadata": {},
   "outputs": [
    {
     "ename": "SyntaxError",
     "evalue": "invalid syntax (<ipython-input-14-6655c72091cb>, line 1)",
     "output_type": "error",
     "traceback": [
      "\u001b[1;36m  File \u001b[1;32m\"<ipython-input-14-6655c72091cb>\"\u001b[1;36m, line \u001b[1;32m1\u001b[0m\n\u001b[1;33m    print ('cad'.strip() 'ena') # <- Esto no es correcto\u001b[0m\n\u001b[1;37m                             ^\u001b[0m\n\u001b[1;31mSyntaxError\u001b[0m\u001b[1;31m:\u001b[0m invalid syntax\n"
     ]
    }
   ],
   "source": [
    "print ('cad'.strip() 'ena') # <- Esto no es correcto"
   ]
  },
  {
   "cell_type": "markdown",
   "metadata": {},
   "source": [
    "Las cadenas de texto se pueden indexar; como en C, el primer carácter de la cadena tiene el índice 0. No\n",
    "hay un tipo de dato para los caracteres; un carácter es simplemente una cadena de longitud uno. Como en\n",
    "Icon, se pueden especificar subcadenas con la notación de rebanadas: dos índices separados por dos\n",
    "puntos."
   ]
  },
  {
   "cell_type": "code",
   "execution_count": 16,
   "metadata": {
    "scrolled": true
   },
   "outputs": [
    {
     "name": "stdout",
     "output_type": "stream",
     "text": [
      "a\n",
      "Ay\n",
      "ud\n"
     ]
    }
   ],
   "source": [
    "print(palabra[4])\n",
    "print(palabra[0:2])\n",
    "print(palabra[2:4])"
   ]
  },
  {
   "cell_type": "markdown",
   "metadata": {},
   "source": [
    "Los índices de las rebanadas tienen valores por defecto útiles; el valor por defecto para el primer índice es\n",
    "cero, el valor por defecto para el segundo índice es la longitud de la cadena a rebanar"
   ]
  },
  {
   "cell_type": "code",
   "execution_count": 17,
   "metadata": {},
   "outputs": [
    {
     "name": "stdout",
     "output_type": "stream",
     "text": [
      "Ay\n",
      "udaA\n"
     ]
    }
   ],
   "source": [
    "print(palabra[:2]) # Los primeros dos caracteres\n",
    "print(palabra[2:]) # Todo menos los primeros dos caracteres"
   ]
  },
  {
   "cell_type": "markdown",
   "metadata": {},
   "source": [
    "A diferencia de las cadenas de texto en C, en Python no pueden ser modificadas. Intentar asignar a una\n",
    "posición de la cadena es un error:"
   ]
  },
  {
   "cell_type": "code",
   "execution_count": 18,
   "metadata": {},
   "outputs": [
    {
     "ename": "TypeError",
     "evalue": "'str' object does not support item assignment",
     "output_type": "error",
     "traceback": [
      "\u001b[1;31m---------------------------------------------------------------------------\u001b[0m",
      "\u001b[1;31mTypeError\u001b[0m                                 Traceback (most recent call last)",
      "\u001b[1;32m<ipython-input-18-cd3ae6766319>\u001b[0m in \u001b[0;36m<module>\u001b[1;34m\u001b[0m\n\u001b[1;32m----> 1\u001b[1;33m \u001b[0mpalabra\u001b[0m\u001b[1;33m[\u001b[0m\u001b[1;36m0\u001b[0m\u001b[1;33m]\u001b[0m \u001b[1;33m=\u001b[0m \u001b[1;34m'x'\u001b[0m\u001b[1;33m\u001b[0m\u001b[1;33m\u001b[0m\u001b[0m\n\u001b[0m",
      "\u001b[1;31mTypeError\u001b[0m: 'str' object does not support item assignment"
     ]
    }
   ],
   "source": [
    "palabra[0] = 'x'"
   ]
  },
  {
   "cell_type": "code",
   "execution_count": 20,
   "metadata": {},
   "outputs": [
    {
     "ename": "TypeError",
     "evalue": "'str' object does not support item assignment",
     "output_type": "error",
     "traceback": [
      "\u001b[1;31m---------------------------------------------------------------------------\u001b[0m",
      "\u001b[1;31mTypeError\u001b[0m                                 Traceback (most recent call last)",
      "\u001b[1;32m<ipython-input-20-93c2dfe0a112>\u001b[0m in \u001b[0;36m<module>\u001b[1;34m\u001b[0m\n\u001b[1;32m----> 1\u001b[1;33m \u001b[0mpalabra\u001b[0m\u001b[1;33m[\u001b[0m\u001b[1;33m:\u001b[0m\u001b[1;36m1\u001b[0m\u001b[1;33m]\u001b[0m \u001b[1;33m=\u001b[0m \u001b[1;34m'Mas'\u001b[0m\u001b[1;33m\u001b[0m\u001b[1;33m\u001b[0m\u001b[0m\n\u001b[0m",
      "\u001b[1;31mTypeError\u001b[0m: 'str' object does not support item assignment"
     ]
    }
   ],
   "source": [
    "palabra[:1] = 'Mas'"
   ]
  },
  {
   "cell_type": "markdown",
   "metadata": {},
   "source": [
    "Sin embargo, crear una nueva cadena con contenido combinado es fácil y eficiente:"
   ]
  },
  {
   "cell_type": "code",
   "execution_count": 21,
   "metadata": {},
   "outputs": [
    {
     "name": "stdout",
     "output_type": "stream",
     "text": [
      "xyudaA\n",
      "MasA\n"
     ]
    }
   ],
   "source": [
    "print('x' + palabra[1:])\n",
    "print('Mas' + palabra[5])"
   ]
  },
  {
   "cell_type": "markdown",
   "metadata": {},
   "source": [
    "Algo útil de las operaciones de rebanada: s[:i] + s[i:] es s."
   ]
  },
  {
   "cell_type": "code",
   "execution_count": 22,
   "metadata": {},
   "outputs": [
    {
     "name": "stdout",
     "output_type": "stream",
     "text": [
      "AyudaA\n",
      "AyudaA\n"
     ]
    }
   ],
   "source": [
    "print(palabra[:2] + palabra[2:])\n",
    "print(palabra[:3] + palabra[3:])"
   ]
  },
  {
   "cell_type": "markdown",
   "metadata": {},
   "source": [
    "Los índices degenerados en las rebanadas son manejados bien: un índice muy largo es reemplazado por\n",
    "la longitud de la cadena, un límite superior más chico que el límite menor retorna una cadena vacía"
   ]
  },
  {
   "cell_type": "code",
   "execution_count": 25,
   "metadata": {},
   "outputs": [
    {
     "name": "stdout",
     "output_type": "stream",
     "text": [
      "yudaA\n",
      "\n",
      "\n"
     ]
    }
   ],
   "source": [
    "print(palabra[1:100])\n",
    "print(palabra[10:])\n",
    "print(palabra[2:1])"
   ]
  },
  {
   "cell_type": "markdown",
   "metadata": {},
   "source": [
    "Los índices pueden ser números negativos, para empezar a contar desde la derecha. Por ejemplo:"
   ]
  },
  {
   "cell_type": "code",
   "execution_count": 26,
   "metadata": {},
   "outputs": [
    {
     "name": "stdout",
     "output_type": "stream",
     "text": [
      "A\n",
      "a\n",
      "aA\n",
      "Ayud\n"
     ]
    }
   ],
   "source": [
    "print(palabra[-1]) # El último caracter\n",
    "\n",
    "print(palabra[-2]) # El penúltimo caracter\n",
    "\n",
    "print(palabra[-2:]) # Los últimos dos caracteres\n",
    "\n",
    "print(palabra[:-2]) # Todo menos los últimos dos caracteres\n"
   ]
  },
  {
   "cell_type": "markdown",
   "metadata": {},
   "source": [
    "Pero notá que -0 es en realidad lo mismo que 0, por lo que no cuenta desde la derecha"
   ]
  },
  {
   "cell_type": "code",
   "execution_count": 28,
   "metadata": {},
   "outputs": [
    {
     "name": "stdout",
     "output_type": "stream",
     "text": [
      "A\n"
     ]
    }
   ],
   "source": [
    "print(palabra[-0]) # (ya que -0 es igual a 0)"
   ]
  },
  {
   "cell_type": "markdown",
   "metadata": {},
   "source": [
    "Los índices negativos fuera de rango son truncados, pero esto no funciona para índices de un solo\n",
    "elemento (no rebanada):"
   ]
  },
  {
   "cell_type": "code",
   "execution_count": 30,
   "metadata": {},
   "outputs": [
    {
     "name": "stdout",
     "output_type": "stream",
     "text": [
      "AyudaA\n"
     ]
    }
   ],
   "source": [
    "print(palabra[-100:])"
   ]
  },
  {
   "cell_type": "code",
   "execution_count": 31,
   "metadata": {},
   "outputs": [
    {
     "ename": "IndexError",
     "evalue": "string index out of range",
     "output_type": "error",
     "traceback": [
      "\u001b[1;31m---------------------------------------------------------------------------\u001b[0m",
      "\u001b[1;31mIndexError\u001b[0m                                Traceback (most recent call last)",
      "\u001b[1;32m<ipython-input-31-d4a0aef483a9>\u001b[0m in \u001b[0;36m<module>\u001b[1;34m\u001b[0m\n\u001b[1;32m----> 1\u001b[1;33m \u001b[0mprint\u001b[0m\u001b[1;33m(\u001b[0m\u001b[0mpalabra\u001b[0m\u001b[1;33m[\u001b[0m\u001b[1;33m-\u001b[0m\u001b[1;36m10\u001b[0m\u001b[1;33m]\u001b[0m\u001b[1;33m)\u001b[0m \u001b[1;31m# Error\u001b[0m\u001b[1;33m\u001b[0m\u001b[1;33m\u001b[0m\u001b[0m\n\u001b[0m",
      "\u001b[1;31mIndexError\u001b[0m: string index out of range"
     ]
    }
   ],
   "source": [
    "print(palabra[-10]) # Error"
   ]
  },
  {
   "cell_type": "markdown",
   "metadata": {},
   "source": [
    "Una forma de recordar cómo funcionan las rebanadas es pensar en los índices como puntos entre\n",
    "caracteres, con el punto a la izquierda del primer carácter numerado en 0. Luego, el punto a la derecha del\n",
    "último carácter de una cadena de n caracteres tienen índice n, por ejemplo:"
   ]
  },
  {
   "cell_type": "code",
   "execution_count": null,
   "metadata": {},
   "outputs": [],
   "source": [
    " +---+---+---+---+---+---+\n",
    " | A | y | u | d | a | A |\n",
    " +---+---+---+---+---+---+\n",
    " 0 1 2 3 4 5 6\n",
    "-6 -5 -4 -3 -2 -1"
   ]
  },
  {
   "cell_type": "markdown",
   "metadata": {},
   "source": [
    "La primer fila de números da la posición de los índices 0...6 en la cadena; la segunda fila da los\n",
    "correspondientes índices negativos. La rebanada de i a j consiste en todos los caracteres entre los puntos\n",
    "21\n",
    "etiquetados i y j, respectivamente.\n",
    "Para índices no negativos, la longitud de la rebanada es la diferencia de los índices, si ambos entran en\n",
    "los límites. Por ejemplo, la longitud de palabra[1:3] es 2.\n",
    "La función incorporada len() devuelve la longitud de una cadena de texto:"
   ]
  },
  {
   "cell_type": "code",
   "execution_count": 32,
   "metadata": {},
   "outputs": [
    {
     "data": {
      "text/plain": [
       "33"
      ]
     },
     "execution_count": 32,
     "metadata": {},
     "output_type": "execute_result"
    }
   ],
   "source": [
    "s = 'supercalifrastilisticoespialidoso'\n",
    "len(s)"
   ]
  },
  {
   "cell_type": "code",
   "execution_count": null,
   "metadata": {},
   "outputs": [],
   "source": []
  }
 ],
 "metadata": {
  "kernelspec": {
   "display_name": "Python 3",
   "language": "python",
   "name": "python3"
  },
  "language_info": {
   "codemirror_mode": {
    "name": "ipython",
    "version": 3
   },
   "file_extension": ".py",
   "mimetype": "text/x-python",
   "name": "python",
   "nbconvert_exporter": "python",
   "pygments_lexer": "ipython3",
   "version": "3.7.3"
  }
 },
 "nbformat": 4,
 "nbformat_minor": 2
}
