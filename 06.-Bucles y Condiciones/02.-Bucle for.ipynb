{
 "cells": [
  {
   "cell_type": "markdown",
   "metadata": {},
   "source": [
    "# Bucle for"
   ]
  },
  {
   "cell_type": "markdown",
   "metadata": {},
   "source": [
    "En general, un bucle es una estructura de control que repite un bloque de instrucciones. Un bucle for es un bucle que repite el bloque de instrucciones un número prederminado de veces. El bloque de instrucciones que se repite se suele llamar cuerpo del bucle y cada repetición se suele llamar iteración.\n",
    "\n"
   ]
  },
  {
   "cell_type": "markdown",
   "metadata": {},
   "source": [
    "La sintaxis de un bucle for es la siguiente:\n",
    "\n",
    "**for** *variable* **in** *elemento iterable (lista, cadena, range, etc.):    \n",
    "    &emsp;&emsp;cuerpo del bucle*"
   ]
  },
  {
   "cell_type": "markdown",
   "metadata": {},
   "source": [
    "No es necesario definir la variable de control antes del bucle, aunque se puede utilizar como variable de control una variable ya definida en el programa."
   ]
  },
  {
   "cell_type": "markdown",
   "metadata": {},
   "source": [
    "El cuerpo del bucle se ejecuta tantas veces como elementos tenga el elemento recorrible (elementos de una lista o de un range(), caracteres de una cadena, etc.). Por ejemplo:"
   ]
  },
  {
   "cell_type": "markdown",
   "metadata": {},
   "source": [
    "### Ejemplo de bucle 1"
   ]
  },
  {
   "cell_type": "code",
   "execution_count": 1,
   "metadata": {},
   "outputs": [],
   "source": [
    "print(\"Comienzo\")\n",
    "for i in [0, 1, 2]:\n",
    "    print(\"Hola \", end=\"\")\n",
    "print()\n",
    "print(\"Final\")"
   ]
  },
  {
   "cell_type": "raw",
   "metadata": {},
   "source": [
    "Se ejecuta la primera instrucción del programa.\n",
    "\n",
    "En este caso, imprime el párrafo de comienzo.\n",
    "\n",
    "A continuación se ejecuta el bucle. La variable de control toma el primer valor de la lista.\n",
    "\n",
    "En este caso, la variable de control es i y toma el valor 0.\n",
    "\n",
    "A continuación se ejecutan las instrucciones del bloque.\n",
    "\n",
    "En este caso el bloque consta de una sola instrucción que imprime el texto \"Hola\".\n",
    "\n",
    "A continuación la variable de control toma el segundo valor de la lista.\n",
    "\n",
    "En este caso, la variable de control es i y toma el valor 1.\n",
    "\n",
    "A continuación se ejecutan por segunda vez las instrucciones del bloque.\n",
    "\n",
    "En este caso el bloque consta de una sola instrucción que imprime el texto \"Hola\".\n",
    "\n",
    "A continuación la variable de control toma el tercer y último valor de la lista.\n",
    "\n",
    "En este caso, la variable de control es i y toma el valor 2.\n",
    "\n",
    "A continuación se ejecutan por tercera y última vez las instrucciones del bloque.\n",
    "\n",
    "En este caso el bloque consta de una sola instrucción que imprime el texto \"Hola\".\n",
    "\n",
    "Una vez terminado el bucle, se ejecuta la instrucción que sigue al bucle.\n",
    "\n",
    "En este caso, imprime un salto de línea, para que el siguiente print() imprima en la línea siguiente.\n",
    "\n",
    "La última instrucción del programa imprime el párrafo final.\n",
    "\n"
   ]
  },
  {
   "cell_type": "markdown",
   "metadata": {},
   "source": [
    "Si la lista está vacía, el bucle no se ejecuta ninguna vez. Por ejemplo:"
   ]
  },
  {
   "cell_type": "code",
   "execution_count": 2,
   "metadata": {},
   "outputs": [
    {
     "name": "stdout",
     "output_type": "stream",
     "text": [
      "Comienzo\n",
      "\n",
      "Final\n"
     ]
    }
   ],
   "source": [
    "#Se ejecuta la primera instrucción del programa.En este caso, imprime el párrafo de comienzo.\n",
    "print(\"Comienzo\")\n",
    "#A continuación se ejecuta el bucle. \n",
    "#Como la lista está vacía, la variable de control no toma ningún valor y el cuerpo del bucle no se ejecuta\n",
    "for i in []: \n",
    "    print(\"Hola \", end=\"\")\n",
    "#Una vez terminado el bucle, se ejecuta la instrucción que sigue al bucle.\n",
    "#En este caso, imprime un salto de línea, para que el siguiente print() imprima en la línea siguiente.\n",
    "print()\n",
    "print(\"Final\") #La última instrucción del programa imprime el párrafo final."
   ]
  },
  {
   "cell_type": "markdown",
   "metadata": {},
   "source": [
    "En los ejemplos anteriores, la variable de control \"i\" no se utilizaba en el bloque de instrucciones, pero en muchos casos sí que se utiliza. Cuando se utiliza, hay que tener en cuenta que la variable de control va tomando los valores del elemento recorrible. Por ejemplo:"
   ]
  },
  {
   "cell_type": "code",
   "execution_count": 3,
   "metadata": {},
   "outputs": [
    {
     "name": "stdout",
     "output_type": "stream",
     "text": [
      "Comienzo\n",
      "Hola. Ahora i vale 3 y su cuadrado 9\n",
      "Hola. Ahora i vale 4 y su cuadrado 16\n",
      "Hola. Ahora i vale 5 y su cuadrado 25\n",
      "Final\n"
     ]
    }
   ],
   "source": [
    "print(\"Comienzo\")\n",
    "for i in [3, 4, 5]:\n",
    "    print(f\"Hola. Ahora i vale {i} y su cuadrado {i ** 2}\")\n",
    "print(\"Final\")"
   ]
  },
  {
   "cell_type": "markdown",
   "metadata": {},
   "source": [
    "La lista puede contener cualquier tipo de elementos, no sólo números. El bucle se repetirá siempre tantas veces como elementos tenga la lista y la variable irá tomando los valores de uno en uno. Por ejemplo:"
   ]
  },
  {
   "cell_type": "code",
   "execution_count": 4,
   "metadata": {},
   "outputs": [
    {
     "name": "stdout",
     "output_type": "stream",
     "text": [
      "Comienzo\n",
      "Hola. Ahora i vale Alba\n",
      "Hola. Ahora i vale Benito\n",
      "Hola. Ahora i vale 27\n",
      "Final\n"
     ]
    }
   ],
   "source": [
    "print(\"Comienzo\")\n",
    "for i in [\"Alba\", \"Benito\", 27]:\n",
    "    print(f\"Hola. Ahora i vale {i}\")\n",
    "print(\"Final\")"
   ]
  },
  {
   "cell_type": "markdown",
   "metadata": {},
   "source": [
    "Cuando se escriben dos o más bucles seguidos, la costumbre es utilizar el mismo nombre de variable puesto que cada bucle establece los valores de la variable sin importar los valores anteriores:"
   ]
  },
  {
   "cell_type": "code",
   "execution_count": 5,
   "metadata": {},
   "outputs": [
    {
     "name": "stdout",
     "output_type": "stream",
     "text": [
      "0 * 0 = 0\n",
      "1 * 1 = 1\n",
      "2 * 2 = 4\n",
      "\n",
      "0 * 0 * 0 = 0\n",
      "1 * 1 * 1 = 1\n",
      "2 * 2 * 2 = 8\n",
      "3 * 3 * 3 = 27\n"
     ]
    }
   ],
   "source": [
    "for i in [0, 1, 2]:\n",
    "    print(f\"{i} * {i} = {i ** 2}\")\n",
    "\n",
    "print()\n",
    "\n",
    "for i in [0, 1, 2, 3]:\n",
    "    print(f\"{i} * {i} * {i} = {i ** 3}\")"
   ]
  },
  {
   "cell_type": "markdown",
   "metadata": {},
   "source": [
    "En vez de una lista se puede escribir una cadena, en cuyo caso la variable de control va tomando como valor cada uno de los caracteres:"
   ]
  },
  {
   "cell_type": "code",
   "execution_count": 6,
   "metadata": {},
   "outputs": [
    {
     "name": "stdout",
     "output_type": "stream",
     "text": [
      "Dame una M\n",
      "Dame una A\n",
      "Dame una N\n",
      "Dame una Z\n",
      "Dame una A\n",
      "Dame una N\n",
      "Dame una A\n",
      "MANZANA\n"
     ]
    }
   ],
   "source": [
    "for i in \"MANZANA\":\n",
    "    print(f\"Dame una {i}\")\n",
    "print(\"MANZANA\")"
   ]
  },
  {
   "cell_type": "markdown",
   "metadata": {},
   "source": [
    "En los ejemplos anteriores se ha utilizado una lista para facilitar la comprensión del funcionamiento de los bucles pero, si es posible hacerlo, se recomienda utilizar tipos range(), entre otros motivos porque durante la ejecución del programa ocupan menos memoria en el ordenador.\n",
    "\n",
    "El siguiente programa es equivalente al programa del ejemplo anterior:"
   ]
  },
  {
   "cell_type": "code",
   "execution_count": 7,
   "metadata": {},
   "outputs": [
    {
     "name": "stdout",
     "output_type": "stream",
     "text": [
      "Comienzo\n",
      "Hola Hola Hola \n",
      "Final\n"
     ]
    }
   ],
   "source": [
    "print(\"Comienzo\")\n",
    "for i in range(3):\n",
    "    print(\"Hola \", end=\"\")\n",
    "print()\n",
    "print(\"Final\")"
   ]
  },
  {
   "cell_type": "markdown",
   "metadata": {},
   "source": [
    "Otra de las ventajas de utilizar tipos range() es que el argumento del tipo range() controla el número de veces que se ejecuta el bucle."
   ]
  },
  {
   "cell_type": "markdown",
   "metadata": {},
   "source": [
    "Esto permite que el número de iteraciones dependa del desarrollo del programa. En el ejemplo siguiente es el usuario quien decide cuántas veces se ejecuta el bucle:"
   ]
  },
  {
   "cell_type": "code",
   "execution_count": 8,
   "metadata": {},
   "outputs": [
    {
     "name": "stdout",
     "output_type": "stream",
     "text": [
      "¿Cuántas veces quiere que le salude? 7\n",
      "Hola Hola Hola Hola Hola Hola Hola \n",
      "Adiós\n"
     ]
    }
   ],
   "source": [
    "veces = int(input(\"¿Cuántas veces quiere que le salude? \"))\n",
    "for i in range(veces):\n",
    "    print(\"Hola \", end=\"\")\n",
    "print()\n",
    "print(\"Adiós\")"
   ]
  },
  {
   "cell_type": "markdown",
   "metadata": {},
   "source": [
    "### Contadores y acumuladores"
   ]
  },
  {
   "cell_type": "markdown",
   "metadata": {},
   "source": [
    "En muchos programas se necesitan variables que cuenten cuántas veces ha ocurrido algo (contadores) o que acumulen valores (acumuladores). Las situaciones pueden ser muy diversas, por lo que simplemente hay aquí un par de ejemplos para mostrar la idea."
   ]
  },
  {
   "cell_type": "markdown",
   "metadata": {},
   "source": [
    "### Contador"
   ]
  },
  {
   "cell_type": "markdown",
   "metadata": {},
   "source": [
    "Se entiende por contador una variable que lleva la cuenta del número de veces que se ha cumplido una condición. El ejemplo siguiente es un ejemplo de programa con contador (en este caso, la variable que hace de contador es la variable cuenta):"
   ]
  },
  {
   "cell_type": "markdown",
   "metadata": {},
   "source": [
    "**Ejemplo de contador**"
   ]
  },
  {
   "cell_type": "code",
   "execution_count": 9,
   "metadata": {},
   "outputs": [
    {
     "name": "stdout",
     "output_type": "stream",
     "text": [
      "Comienzo\n",
      "Desde 1 hasta 5 hay 2 múltiplos de 2\n"
     ]
    }
   ],
   "source": [
    "print(\"Comienzo\")\n",
    "cuenta = 0\n",
    "for i in range(1, 6):\n",
    "    if i % 2 == 0:\n",
    "        cuenta = cuenta + 1\n",
    "print(f\"Desde 1 hasta 5 hay {cuenta} múltiplos de 2\")"
   ]
  },
  {
   "cell_type": "markdown",
   "metadata": {},
   "source": [
    "Detalles importantes:   \n",
    "* En cada iteración, el programa comprueba si i es múltiplo de 2.   \n",
    "* El contador se modifica sólo si la variable de control i es múltiplo de 2.   \n",
    "* El contador va aumentando de uno en uno.   \n",
    "* Antes del bucle se debe dar un valor inicial al contador (en este caso, 0)"
   ]
  },
  {
   "cell_type": "markdown",
   "metadata": {},
   "source": [
    "### Acumulador"
   ]
  },
  {
   "cell_type": "markdown",
   "metadata": {},
   "source": [
    "Se entiende por acumulador una variable que acumula el resultado de una operación. El ejemplo siguiente es un ejemplo de programa con acumulador (en este caso, la variable que hace de acumulador es la variable *suma*):"
   ]
  },
  {
   "cell_type": "markdown",
   "metadata": {},
   "source": [
    "**Ejemplo de acumulador**"
   ]
  },
  {
   "cell_type": "code",
   "execution_count": 10,
   "metadata": {},
   "outputs": [
    {
     "name": "stdout",
     "output_type": "stream",
     "text": [
      "Comienzo\n",
      "La suma de los números de 1 a 4 es 10\n"
     ]
    }
   ],
   "source": [
    "print(\"Comienzo\")\n",
    "suma = 0\n",
    "for i in [1, 2, 3, 4]:\n",
    "    suma = suma + i\n",
    "print(f\"La suma de los números de 1 a 4 es {suma}\")"
   ]
  },
  {
   "cell_type": "markdown",
   "metadata": {},
   "source": [
    "Detalles importantes: \n",
    "* El acumulador se modifica en cada iteración del bucle (en este caso, el valor de i se añade al acumulador suma).   \n",
    "* Antes del bucle se debe dar un valor inicial al acumulador (en este caso, 0)"
   ]
  },
  {
   "cell_type": "markdown",
   "metadata": {},
   "source": [
    "Fuente:  \n",
    "http://www.mclibre.org/consultar/python/lecciones/python-for.html#bucle-for"
   ]
  }
 ],
 "metadata": {
  "kernelspec": {
   "display_name": "Python 3",
   "language": "python",
   "name": "python3"
  },
  "language_info": {
   "codemirror_mode": {
    "name": "ipython",
    "version": 3
   },
   "file_extension": ".py",
   "mimetype": "text/x-python",
   "name": "python",
   "nbconvert_exporter": "python",
   "pygments_lexer": "ipython3",
   "version": "3.7.3"
  }
 },
 "nbformat": 4,
 "nbformat_minor": 2
}
