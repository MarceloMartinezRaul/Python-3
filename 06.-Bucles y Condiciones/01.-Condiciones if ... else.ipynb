{
 "cells": [
  {
   "cell_type": "markdown",
   "metadata": {},
   "source": [
    "# Condicionales if...else"
   ]
  },
  {
   "cell_type": "markdown",
   "metadata": {},
   "source": [
    "Algunas veces en nuestros programas es necesario que tomemos algunas “decisiones”, esto en el sentido de que necesitamos decidir si ejecutar una pieza en especial de codigo o no, o tal vez dadas ciertas condiciones tendríamos varias alternativas de código que ejecutar.\n",
    "\n",
    "Para esto tenemos una sentencia llamada if y otra llamada else."
   ]
  },
  {
   "cell_type": "markdown",
   "metadata": {},
   "source": [
    "### <p>La sintaxis de la construcción if es la siguiente:\n",
    "**if** *condición*:<br>\n",
    "    *&emsp;&emsp;Las órdenes que se ejecutan si la condición es cierta   \n",
    "    &emsp;&emsp;y que pueden ser muchas lineas o solamente una*</p>"
   ]
  },
  {
   "cell_type": "markdown",
   "metadata": {},
   "source": [
    "La ejecución de esta construcción es la siguiente:   \n",
    "&emsp;&emsp;Si el resultado es True se ejecuta el bloque de sentencias   \n",
    "&emsp;&emsp;Si el resultado es False no se ejecuta el bloque de sentencias."
   ]
  },
  {
   "cell_type": "markdown",
   "metadata": {},
   "source": [
    "La primera línea contiene la condición a evaluar y es una expresión lógica. Esta línea debe terminar siempre por dos puntos (:).\n",
    "\n",
    "A continuación viene el bloque de órdenes que se ejecutan cuando la condición se cumple (es decir, cuando la condición es verdadera). Es importante señalar que este bloque debe ir sangrado, puesto que Python utiliza el sangrado para reconocer las líneas que forman un bloque de instrucciones. El sangrado que se suele utilizar en Python es de cuatro espacios, pero se pueden utilizar más o menos espacios. Al escribir dos puntos (:) al final de una línea, el editor sangrará automáticamente las líneas siguientes. Para terminar un bloque, basta con volver al principio de la línea."
   ]
  },
  {
   "cell_type": "markdown",
   "metadata": {},
   "source": [
    "### Diagrama de flujo de la sentencia condicional condicional if ..."
   ]
  },
  {
   "cell_type": "markdown",
   "metadata": {},
   "source": [
    "El diagrama de flujo siguiente muestra la ejecución de una sentencia if ...:"
   ]
  },
  {
   "attachments": {
    "diagrama%20de%20flujo%20setencia%20if.PNG": {
     "image/png": "[encoded data removed]"
    }
   },
   "cell_type": "markdown",
   "metadata": {},
   "source": [
    "![diagrama%20de%20flujo%20setencia%20if.PNG](attachment:diagrama%20de%20flujo%20setencia%20if.PNG)"
   ]
  },
  {
   "cell_type": "markdown",
   "metadata": {},
   "source": [
    "### Ejemplo con sentencia condicional if"
   ]
  },
  {
   "cell_type": "markdown",
   "metadata": {},
   "source": [
    "El siguiente programa pide un número mayor a 100 al usuario y almacena la respuesta en la variable \"numero\". Después comprueba si el número es mayor o no. Si lo es, el programa avisa que no era eso lo que se había pedido. Finalmente, el programa imprime siempre el valor introducido por el usuario. A continuación se pueden ver las dos ejecuciones de este programa. En la primera el usuario escribe un valor mayor a 100 y en la segunda el usuario escribe un valor menor a 100:"
   ]
  },
  {
   "cell_type": "code",
   "execution_count": 1,
   "metadata": {},
   "outputs": [
    {
     "name": "stdout",
     "output_type": "stream",
     "text": [
      "Escriba un número mayor a 100: 500\n",
      "Ha escrito el número 500\n"
     ]
    }
   ],
   "source": [
    "numero = int(input(\"Escriba un número mayor a 100: \"))\n",
    "if numero <= 100:\n",
    "    print(\"Se le pidio escribir un numero mayor a 100\")\n",
    "print(f\"Ha escrito el número {numero}\")"
   ]
  },
  {
   "cell_type": "code",
   "execution_count": 2,
   "metadata": {},
   "outputs": [
    {
     "name": "stdout",
     "output_type": "stream",
     "text": [
      "Escriba un número mayor a 100: 100\n",
      "Se le pidio escribir un numero mayor a 100\n",
      "Ha escrito el número 100\n"
     ]
    }
   ],
   "source": [
    "numero = int(input(\"Escriba un número mayor a 100: \"))\n",
    "if numero <= 100:\n",
    "    print(\"Se le pidio escribir un numero mayor a 100\")\n",
    "print(f\"Ha escrito el número {numero}\")"
   ]
  },
  {
   "cell_type": "markdown",
   "metadata": {},
   "source": [
    "### Bifurcaciones: if ... else ..."
   ]
  },
  {
   "cell_type": "markdown",
   "metadata": {},
   "source": [
    "La estructura de control if ... else ... permite que un programa ejecute unas instrucciones cuando se cumple una condición y otras instrucciones cuando no se cumple esa condición. En inglés \"if\" significa \"si\" (condición) y \"else\" significa \"si no\". La orden en Python se escribe así:"
   ]
  },
  {
   "cell_type": "markdown",
   "metadata": {},
   "source": [
    "### La sintaxis de la sentencia condicional if ... else ...    \n",
    "**if** *condición:     \n",
    "    &emsp;&emsp;Aquí van las órdenes que se ejecutan si la condición es cierta    \n",
    "    &emsp;&emsp;y que pueden ser muchas lineas o solamente una*   \n",
    "**else**:    \n",
    "    *&emsp;&emsp;y aquí van las órdenes que se ejecutan si la condición es   \n",
    "    &emsp;&emsp;falsa y que también pueden ser muchas lineas o solamente una*"
   ]
  },
  {
   "cell_type": "markdown",
   "metadata": {},
   "source": [
    "La ejecución de esta construcción es la siguiente:    \n",
    "&emsp;&emsp;Si el resultado es True se ejecuta solamente el bloque de sentencias 1    \n",
    "&emsp;&emsp;Si el resultado es False se ejecuta solamente el bloque de sentencias 2."
   ]
  },
  {
   "cell_type": "markdown",
   "metadata": {},
   "source": [
    "La primera línea contiene la condición a evaluar. Esta línea debe terminar siempre por dos puntos (:).   \n",
    "\n",
    "A continuación viene el bloque de órdenes que se ejecutan cuando la condición se cumple (es decir, cuando la condición es verdadera). Es importante señalar que este bloque debe ir sangrado, puesto que Python utiliza el sangrado para reconocer las líneas que forman un bloque de instrucciones. El sangrado que se suele utilizar en Python es de cuatro espacios, pero se pueden utilizar más o menos espacios. Al escribir dos puntos (:) al final de una línea, IDLE sangrará automáticamente las líneas siguientes. Para terminar un bloque, basta con volver al principio de la línea.   \n",
    "\n",
    "Después viene la línea con la orden else, que indica a Python que el bloque que viene a continuación se tiene que ejecutar cuando la condición no se cumpla (es decir, cuando sea falsa). Esta línea también debe terminar siempre por dos puntos (:). La línea con la orden else no debe incluir nada más que el else y los dos puntos.   \n",
    "\n",
    "En último lugar está el bloque de instrucciones sangrado que corresponde al else."
   ]
  },
  {
   "cell_type": "markdown",
   "metadata": {},
   "source": [
    "### Diagrama de flujo de la sentencia condicional if ... else ..."
   ]
  },
  {
   "cell_type": "markdown",
   "metadata": {},
   "source": [
    "El diagrama de flujo siguiente muestra la ejecución de una sentencia if ... else ...:"
   ]
  },
  {
   "attachments": {
    "diagrama%20de%20flujo%20sentencia%20if...else.PNG": {
     "image/png": "[encoded data removed]"
    }
   },
   "cell_type": "markdown",
   "metadata": {},
   "source": [
    "![diagrama%20de%20flujo%20sentencia%20if...else.PNG](attachment:diagrama%20de%20flujo%20sentencia%20if...else.PNG)"
   ]
  },
  {
   "cell_type": "markdown",
   "metadata": {},
   "source": [
    "### Ejemplo con sentencia condicional if...else..."
   ]
  },
  {
   "cell_type": "markdown",
   "metadata": {},
   "source": [
    "El siguiente programa pregunta la edad al usuario y almacena la respuesta en la variable \"edad\". Después comprueba si la edad es inferior a 18 años. Si esta comparación es cierta, el programa escribe que es menor de edad y si es falsa escribe que es mayor de edad. Finalmente el programa siempre se despide, ya que la última instrucción está fuera de cualquier bloque y por tanto se ejecuta siempre. A continuación se pueden ver dos ejecuciones paso a paso de ese programa:\n",
    "\n"
   ]
  },
  {
   "cell_type": "code",
   "execution_count": 3,
   "metadata": {},
   "outputs": [
    {
     "name": "stdout",
     "output_type": "stream",
     "text": [
      "¿Cuántos años tiene? 14\n",
      "Es usted menor de edad\n",
      "¡Hasta la próxima!\n"
     ]
    }
   ],
   "source": [
    "edad = int(input(\"¿Cuántos años tiene? \"))\n",
    "if edad < 18:\n",
    "    print(\"Es usted menor de edad\")\n",
    "else:\n",
    "    print(\"Es usted mayor de edad\")\n",
    "print(\"¡Hasta la próxima!\")"
   ]
  },
  {
   "cell_type": "code",
   "execution_count": 4,
   "metadata": {},
   "outputs": [
    {
     "name": "stdout",
     "output_type": "stream",
     "text": [
      "¿Cuántos años tiene? 24\n",
      "Es usted mayor de edad\n",
      "¡Hasta la próxima!\n"
     ]
    }
   ],
   "source": [
    "edad = int(input(\"¿Cuántos años tiene? \"))\n",
    "if edad < 18:\n",
    "    print(\"Es usted menor de edad\")\n",
    "else:\n",
    "    print(\"Es usted mayor de edad\")\n",
    "print(\"¡Hasta la próxima!\")"
   ]
  },
  {
   "cell_type": "markdown",
   "metadata": {},
   "source": [
    "Fuente:    \n",
    "http://www.mclibre.org/consultar/python/lecciones/python-if-else.html"
   ]
  }
 ],
 "metadata": {
  "kernelspec": {
   "display_name": "Python 3",
   "language": "python",
   "name": "python3"
  },
  "language_info": {
   "codemirror_mode": {
    "name": "ipython",
    "version": 3
   },
   "file_extension": ".py",
   "mimetype": "text/x-python",
   "name": "python",
   "nbconvert_exporter": "python",
   "pygments_lexer": "ipython3",
   "version": "3.7.3"
  }
 },
 "nbformat": 4,
 "nbformat_minor": 2
}
