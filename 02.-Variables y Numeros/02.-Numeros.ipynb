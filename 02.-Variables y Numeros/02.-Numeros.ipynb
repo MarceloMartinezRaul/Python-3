{
 "cells": [
  {
   "cell_type": "markdown",
   "metadata": {},
   "source": [
    "# Numeros"
   ]
  },
  {
   "cell_type": "markdown",
   "metadata": {},
   "source": [
    "En números hay dos tipos principales, los números enteros (llamados int) y los reales (llamados float). El separador decimal que tenemos que usar es el punto.\n",
    "Aunque si no decimos el tipo de número que va a contener, Python intentará decidir por si mismo cuál es el más apropiado, esto en ocasiones produce errores. La recomendación mientras empiezas aprender, es la de siempre especificar qué tipo de número es, ya que evitará errores o conflictos."
   ]
  },
  {
   "cell_type": "markdown",
   "metadata": {},
   "source": [
    "El intérprete actúa como una simple calculadora, puedes ingresar una expresión y este escribirá los valores.\n",
    "La sintaxis es sencilla: los operadores +, -, * y / funcionan como en la mayoría de los lenguajes (por\n",
    "ejemplo, Pascal o C); los paréntesis pueden ser usados para agrupar. Por ejemplo:"
   ]
  },
  {
   "cell_type": "code",
   "execution_count": 2,
   "metadata": {},
   "outputs": [
    {
     "data": {
      "text/plain": [
       "5.0"
      ]
     },
     "execution_count": 2,
     "metadata": {},
     "output_type": "execute_result"
    }
   ],
   "source": [
    "(20-2*5)/2"
   ]
  },
  {
   "cell_type": "code",
   "execution_count": 6,
   "metadata": {},
   "outputs": [
    {
     "name": "stdout",
     "output_type": "stream",
     "text": [
      "2\n",
      "2.5\n"
     ]
    }
   ],
   "source": [
    "# Definimos dos variables llamadas numero1 y\n",
    "# numero2, y asociaremos un número a cada una\n",
    "numero1=int(2)\n",
    "numero2=float(2.5)\n",
    "print (numero1)\n",
    "print (numero2)"
   ]
  },
  {
   "cell_type": "markdown",
   "metadata": {},
   "source": [
    "Para saber de qué tipo es una determinada variable, basta con preguntarle a Python type(variable)."
   ]
  },
  {
   "cell_type": "code",
   "execution_count": 7,
   "metadata": {},
   "outputs": [
    {
     "data": {
      "text/plain": [
       "int"
      ]
     },
     "execution_count": 7,
     "metadata": {},
     "output_type": "execute_result"
    }
   ],
   "source": [
    "type(numero1)"
   ]
  }
 ],
 "metadata": {
  "kernelspec": {
   "display_name": "Python 3",
   "language": "python",
   "name": "python3"
  },
  "language_info": {
   "codemirror_mode": {
    "name": "ipython",
    "version": 3
   },
   "file_extension": ".py",
   "mimetype": "text/x-python",
   "name": "python",
   "nbconvert_exporter": "python",
   "pygments_lexer": "ipython3",
   "version": "3.7.3"
  }
 },
 "nbformat": 4,
 "nbformat_minor": 2
}
