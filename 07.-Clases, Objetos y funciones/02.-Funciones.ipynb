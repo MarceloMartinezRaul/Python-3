{
 "cells": [
  {
   "cell_type": "markdown",
   "metadata": {},
   "source": [
    "# Funciones"
   ]
  },
  {
   "cell_type": "markdown",
   "metadata": {},
   "source": [
    "Una función es un bloque de código con un nombre asociado, que recibe cero o más argumentos como entrada, sigue una secuencia de sentencias, la cuales ejecuta una operación deseada y devuelve un valor y/o realiza una tarea, este bloque puede ser llamados cuando se necesite.\n",
    "\n",
    "El uso de funciones es un componente muy importante del paradigma de la programación llamada estructurada, y tiene varias ventajas:\n",
    "\n",
    "* modularización: permite segmentar un programa complejo en una serie de partes o módulos más simples, facilitando así la programación y el depurado.\n",
    "* reutilización: permite reutilizar una misma función en distintos programas.\n",
    "\n",
    "Python dispone de una serie de funciones integradas al lenguaje, y también permite crear funciones definidas por el usuario para ser usadas en su propios programas."
   ]
  },
  {
   "cell_type": "markdown",
   "metadata": {},
   "source": [
    "### Sentencia def"
   ]
  },
  {
   "cell_type": "markdown",
   "metadata": {},
   "source": [
    "La sentencia def es una definición de función usada para crear objetos funciones definidas por el usuario.\n",
    "\n",
    "Una definición de función es una sentencia ejecutable. Su ejecución enlaza el nombre de la función en el namespace local actual a un objecto función (un envoltorio alrededor del código ejecutable para la función). Este objeto función contiene una referencia al namespace local global como el namespace global para ser usado cuando la función es llamada.\n",
    "\n",
    "La definición de función no ejecuta el cuerpo de la función; esto es ejecutado solamente cuando la función es llamada."
   ]
  },
  {
   "cell_type": "markdown",
   "metadata": {},
   "source": [
    "### La sintaxis para una definición de función en Python es:"
   ]
  },
  {
   "cell_type": "markdown",
   "metadata": {},
   "source": [
    "**def** *nombre(lista_de_parametros)*:   \n",
    "    &emsp;&emsp;\"\"\"docstring_de_funcion\"\"\"    \n",
    "    &emsp;&emsp;sentencias   \n",
    "    &emsp;&emsp;return [expresion]"
   ]
  },
  {
   "cell_type": "markdown",
   "metadata": {},
   "source": [
    "A continuación se detallan el significado de pseudo código fuente anterior:    \n",
    "\n",
    "**nombre**, es el nombre de la función.    \n",
    "**lista_de_parametros**, es la lista de parámetros que puede recibir una función.   \n",
    "**docstring_de_funcion**, es la cadena de caracteres usada para documentar la función.  \n",
    "**sentencias**, es el bloque de sentencias en código fuente Python que realizar cierta operación dada.   \n",
    "**return**, es la sentencia return en código Python.    \n",
    "**expresion**, es la expresión o variable que devuelve la sentencia return."
   ]
  },
  {
   "cell_type": "markdown",
   "metadata": {},
   "source": [
    "A continuacion se presenta un ejemplo sencillo:"
   ]
  },
  {
   "cell_type": "code",
   "execution_count": 1,
   "metadata": {},
   "outputs": [
    {
     "name": "stdout",
     "output_type": "stream",
     "text": [
      "Hola Estudiantes !\n"
     ]
    }
   ],
   "source": [
    "def hola(arg):\n",
    "    \"\"\"El docstring de la función\"\"\"\n",
    "    print (\"Hola\", arg, \"!\")\n",
    "hola(\"Estudiantes\")"
   ]
  },
  {
   "cell_type": "markdown",
   "metadata": {},
   "source": [
    "La palabra reservada def se usa para definir funciones. Debe seguirle el nombre de la función, en el ejemplo anterior, el nombre de la funcion es hola() y la lista de parámetros formales entre paréntesis. Las sentencias que forman el cuerpo de la función empiezan en la línea siguiente, y debe estar indentado."
   ]
  },
  {
   "cell_type": "markdown",
   "metadata": {},
   "source": [
    "La primer sentencia del cuerpo de la función puede ser opcionalmente una cadenas de caracteres literal; esta es la cadenas de caracteres de documentación de la función, o docstrings.   \n",
    "\n",
    "**Docstrings**\n",
    "\n",
    "Las cadenas de documentación de Python (o docstrings) nos dan una manera conveniente de asociar la documentación de Python con los módulos, funciones, clases y métodos. El docstring de un objeto está definido incluyendo una cadena constante como la primera declaración en la definición del objeto. Por ejemplo, la siguiente función define una cadena de documentación:"
   ]
  },
  {
   "cell_type": "code",
   "execution_count": 2,
   "metadata": {},
   "outputs": [],
   "source": [
    "def discriminante(a, b, c):   \n",
    "    \"\"\"Devuelve el discriminante de una ecuación de segundo grado con coeficientes a, b, c.\"\"\"  \n",
    "    return(b**-4*a*c)"
   ]
  },
  {
   "cell_type": "markdown",
   "metadata": {},
   "source": [
    "En este caso la docstring de la función discriminante es: \"Devuelve el discriminante de una ecuación de segundo grado con coeficientes a, b, c.\" Osea que si queremos saber que hace cierta función, definida por nosotros o no, podemos hacer:"
   ]
  },
  {
   "cell_type": "code",
   "execution_count": 3,
   "metadata": {},
   "outputs": [
    {
     "name": "stdout",
     "output_type": "stream",
     "text": [
      "Devuelve el discriminante de una ecuación de segundo grado con coeficientes a, b, c.\n"
     ]
    }
   ],
   "source": [
    "print (discriminante.__doc__)"
   ]
  },
  {
   "cell_type": "markdown",
   "metadata": {},
   "source": [
    "Los parámetros reales (argumentos) de una función se introducen en la tabla de símbolos local de la función llamada cuando esta es ejecutada; así, los argumentos son pasados por valor (dónde el valor es siempre una referencia a un objeto, no el valor del objeto)."
   ]
  },
  {
   "cell_type": "markdown",
   "metadata": {},
   "source": [
    "### Argumentos y parámetros \n",
    "Al definir una función los valores los cuales se reciben se denominan parámetros, pero durante la llamada los valores que se envían se denominan argumentos."
   ]
  },
  {
   "cell_type": "markdown",
   "metadata": {},
   "source": [
    "**Por posición**    \n",
    "Cuando enviá argumentos a una función, estos se reciben por orden en los parámetros definidos. Se dice por tanto que son argumentos por posición:"
   ]
  },
  {
   "cell_type": "code",
   "execution_count": 4,
   "metadata": {},
   "outputs": [
    {
     "data": {
      "text/plain": [
       "20"
      ]
     },
     "execution_count": 4,
     "metadata": {},
     "output_type": "execute_result"
    }
   ],
   "source": [
    "def resta(a, b):\n",
    "    return a - b\n",
    "resta(30, 10)"
   ]
  },
  {
   "cell_type": "markdown",
   "metadata": {},
   "source": [
    "En el ejemplo anterior el argumento 30 es la posición 0 por consiguiente es el parámetro de la función a, seguidamente el argumento 10 es la posición 1 por consiguiente es el parámetro de la función b."
   ]
  },
  {
   "cell_type": "markdown",
   "metadata": {},
   "source": [
    "**Por nombre**   \n",
    "Sin embargo es posible evadir el orden de los parámetros si indica durante la llamada que valor tiene cada parámetro a partir de su nombre:"
   ]
  },
  {
   "cell_type": "code",
   "execution_count": 5,
   "metadata": {},
   "outputs": [
    {
     "data": {
      "text/plain": [
       "-20"
      ]
     },
     "execution_count": 5,
     "metadata": {},
     "output_type": "execute_result"
    }
   ],
   "source": [
    "def resta(a, b):\n",
    "    return a - b\n",
    "resta (b=30, a=10)"
   ]
  },
  {
   "cell_type": "markdown",
   "metadata": {},
   "source": [
    "**Llamada sin argumentos**   \n",
    "Al momento de llamar una función la cual tiene definidos unos parámetros, si no pasa los argumentos correctamente provocará una excepción TypeError:"
   ]
  },
  {
   "cell_type": "code",
   "execution_count": 6,
   "metadata": {},
   "outputs": [
    {
     "ename": "TypeError",
     "evalue": "resta() missing 2 required positional arguments: 'a' and 'b'",
     "output_type": "error",
     "traceback": [
      "\u001b[1;31m---------------------------------------------------------------------------\u001b[0m",
      "\u001b[1;31mTypeError\u001b[0m                                 Traceback (most recent call last)",
      "\u001b[1;32m<ipython-input-6-6d2da7c12523>\u001b[0m in \u001b[0;36m<module>\u001b[1;34m\u001b[0m\n\u001b[1;32m----> 1\u001b[1;33m \u001b[0mresta\u001b[0m\u001b[1;33m(\u001b[0m\u001b[1;33m)\u001b[0m\u001b[1;33m\u001b[0m\u001b[1;33m\u001b[0m\u001b[0m\n\u001b[0m",
      "\u001b[1;31mTypeError\u001b[0m: resta() missing 2 required positional arguments: 'a' and 'b'"
     ]
    }
   ],
   "source": [
    "resta()"
   ]
  },
  {
   "cell_type": "markdown",
   "metadata": {},
   "source": [
    "### Ejemplos de funciones\n",
    "A continuación, se presentan algunos ejemplos de su uso:"
   ]
  },
  {
   "cell_type": "code",
   "execution_count": 7,
   "metadata": {},
   "outputs": [],
   "source": [
    "def iva():\n",
    "    '''función básica para el calculo del IVA'''\n",
    "    iva = 12\n",
    "    costo = int(input('¿Cual es el monto a calcular?: '))\n",
    "    calculo = costo * iva / 100\n",
    "    print (\"El calculo de IVA es: \" + str(calculo) + \"\\n\")"
   ]
  },
  {
   "cell_type": "markdown",
   "metadata": {},
   "source": [
    "**Invocar funciones**   \n",
    "A continuación, se presenta un ejemplo del uso de llamar funciones:"
   ]
  },
  {
   "cell_type": "code",
   "execution_count": 8,
   "metadata": {},
   "outputs": [
    {
     "name": "stdout",
     "output_type": "stream",
     "text": [
      "¿Cual es el monto a calcular?: 100\n",
      "El calculo de IVA es: 12.0\n",
      "\n"
     ]
    }
   ],
   "source": [
    "iva()"
   ]
  },
  {
   "cell_type": "markdown",
   "metadata": {},
   "source": [
    "**Funciones con argumentos múltiple**  \n",
    "A continuación, se presenta un ejemplo del uso de funciones con argumentos múltiple:"
   ]
  },
  {
   "cell_type": "code",
   "execution_count": 9,
   "metadata": {},
   "outputs": [],
   "source": [
    "def suma(numero1,numero2):\n",
    "    '''función la cual suma dos números'''\n",
    "    print (numero1 + numero2)\n",
    "    print (\"\\n\")"
   ]
  },
  {
   "cell_type": "markdown",
   "metadata": {},
   "source": [
    "A continuacion llamamos a la funcion"
   ]
  },
  {
   "cell_type": "code",
   "execution_count": 10,
   "metadata": {},
   "outputs": [
    {
     "name": "stdout",
     "output_type": "stream",
     "text": [
      "77\n",
      "\n",
      "\n"
     ]
    }
   ],
   "source": [
    "suma(34,43)"
   ]
  },
  {
   "cell_type": "markdown",
   "metadata": {},
   "source": [
    "Fuentes:   \n",
    "    \n",
    "https://www.fing.edu.uy/inco/cursos/fpr/wiki/index.php/Docstrings,_dir_y_help"
   ]
  }
 ],
 "metadata": {
  "kernelspec": {
   "display_name": "Python 3",
   "language": "python",
   "name": "python3"
  },
  "language_info": {
   "codemirror_mode": {
    "name": "ipython",
    "version": 3
   },
   "file_extension": ".py",
   "mimetype": "text/x-python",
   "name": "python",
   "nbconvert_exporter": "python",
   "pygments_lexer": "ipython3",
   "version": "3.7.3"
  }
 },
 "nbformat": 4,
 "nbformat_minor": 2
}
