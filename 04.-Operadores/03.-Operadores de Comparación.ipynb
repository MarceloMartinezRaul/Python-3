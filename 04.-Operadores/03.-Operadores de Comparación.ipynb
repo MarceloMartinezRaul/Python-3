{
 "cells": [
  {
   "cell_type": "markdown",
   "metadata": {},
   "source": [
    "# Operadores de comparacion"
   ]
  },
  {
   "cell_type": "markdown",
   "metadata": {},
   "source": [
    "Los operadores de comparación se usan para evaluar expresiones que solo pueden tener 2 resultados, estos resultados son verdadero o falso (true o false) y son los siguientes."
   ]
  },
  {
   "cell_type": "markdown",
   "metadata": {},
   "source": [
    "<p> == , evalúa como verdadero si 2 variables son iguales<br>\n",
    "!= ,evalúa como verdadero si 2 variables son diferentes<br>\n",
    "<> , lo mismo que !=<br>\n",
    "> , verdadero si el operador a la izquierda es mayor que el de la derecha<br>\n",
    "< , verdadero si el operador a la izquierda es menor que el de la derecha<br>\n",
    ">= verdadero si el operador a la izquierda es mayor o igual al de la derecha<br>\n",
    "<= verdadero si el operador a la izquierda es menor o igual al de la derecha </p>"
   ]
  },
  {
   "cell_type": "code",
   "execution_count": null,
   "metadata": {},
   "outputs": [],
   "source": [
    "x == y     # x es igual a y\n",
    "x != y     # x no es igual a y\n",
    "x > y      # x es mayor que y\n",
    "x < y      # x es menor que y\n",
    "x >= y     # x es mayor o igual que y\n",
    "x <= y     # x es menor o igual que y"
   ]
  },
  {
   "cell_type": "code",
   "execution_count": 2,
   "metadata": {},
   "outputs": [
    {
     "name": "stdout",
     "output_type": "stream",
     "text": [
      "False\n",
      "True\n",
      "False\n",
      "True\n",
      "False\n",
      "True\n"
     ]
    }
   ],
   "source": [
    "x = 32          # Definiremos el valor de x en 32\n",
    "y = 64          # Definiremos el valor de x en 64\n",
    "print(x == y)   # 32 no es identico a 64\n",
    "print(x != y)   # 32 es diferente a 64\n",
    "print(x > y)    # 32 no es mayor a 64\n",
    "print(x < y)    # 32 si es menor a 64\n",
    "print(x >= y)   # 32 no es mayor o igual que 64\n",
    "print(x <= y)   # 32 si es menor o igual que 64"
   ]
  }
 ],
 "metadata": {
  "kernelspec": {
   "display_name": "Python 3",
   "language": "python",
   "name": "python3"
  },
  "language_info": {
   "codemirror_mode": {
    "name": "ipython",
    "version": 3
   },
   "file_extension": ".py",
   "mimetype": "text/x-python",
   "name": "python",
   "nbconvert_exporter": "python",
   "pygments_lexer": "ipython3",
   "version": "3.7.3"
  }
 },
 "nbformat": 4,
 "nbformat_minor": 2
}
