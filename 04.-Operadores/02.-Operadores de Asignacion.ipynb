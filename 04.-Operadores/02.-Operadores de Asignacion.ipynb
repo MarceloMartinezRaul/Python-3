{
 "cells": [
  {
   "cell_type": "code",
   "execution_count": null,
   "metadata": {},
   "outputs": [],
   "source": [
    "# Operadores de asignacion (= += -= *= /= **=)"
   ]
  },
  {
   "cell_type": "markdown",
   "metadata": {},
   "source": [
    "Existe en Python todo un grupo de operadores los cuales le permiten básicamente asignar un valor a una variable, usando el operador “=”."
   ]
  },
  {
   "cell_type": "markdown",
   "metadata": {},
   "source": [
    "Operador =  \n",
    "El operador igual a, (=), es el más simple de todos y asigna a la variable del lado izquierdo cualquier variable o resultado del lado derecho.\n"
   ]
  },
  {
   "cell_type": "markdown",
   "metadata": {},
   "source": [
    "Operador += \n",
    "El operador += suma a la variable del lado izquierdo el valor del lado derecho."
   ]
  },
  {
   "cell_type": "markdown",
   "metadata": {},
   "source": [
    "Operador -=  \n",
    "Resta a la variable del lado izquierdo el valor del lado derecho."
   ]
  },
  {
   "cell_type": "markdown",
   "metadata": {},
   "source": [
    "Operador *=  \n",
    "El operador *= multiplica a la variable del lado izquierdo el valor del lado derecho."
   ]
  },
  {
   "cell_type": "markdown",
   "metadata": {},
   "source": [
    "Operador /=  \n",
    "El operador /= divide a la variable del lado i\n",
    "zquierdo el valor del lado derecho."
   ]
  },
  {
   "cell_type": "markdown",
   "metadata": {},
   "source": [
    "Operador ***=  \n",
    "El operador ** *= calcula el exponente a la variable del lado izquierdo el valor del lado derecho."
   ]
  },
  {
   "cell_type": "markdown",
   "metadata": {},
   "source": [
    "Operador //=  \n",
    "El operador //= calcula la división entera a la variable del lado izquierdo el valor del lado derecho."
   ]
  },
  {
   "cell_type": "markdown",
   "metadata": {},
   "source": [
    "Operador %=  \n",
    "El operador %= devuelve el resto de la división a la variable del lado izquierdo el valor del lado derecho."
   ]
  },
  {
   "cell_type": "code",
   "execution_count": 20,
   "metadata": {},
   "outputs": [
    {
     "name": "stdout",
     "output_type": "stream",
     "text": [
      "Valor de variable 'a': 21\n",
      "Valor de variable 'b': 10\n",
      "Operador = | El valor de variable 'c' es  31\n",
      "Operador += | El valor de variable 'c' es  52\n",
      "Operador *= | El valor de variable 'c' es  1092\n",
      "Operador /= | El valor de variable 'c' es  52.0\n",
      "Operador %= | El valor de variable 'c' es  2\n",
      "Operador **= | El valor de variable 'c' es  2097152\n",
      "Operador //= | El valor de variable 'c' es  99864\n"
     ]
    }
   ],
   "source": [
    "a, b, c = 21, 10, 0\n",
    "\n",
    "print (\"Valor de variable 'a':\", a)\n",
    "print (\"Valor de variable 'b':\", b)\n",
    "\n",
    "c = a + b\n",
    "print (\"Operador = | El valor de variable 'c' es \", c)\n",
    "\n",
    "c += a\n",
    "print (\"Operador += | El valor de variable 'c' es \", c)\n",
    "\n",
    "c *= a\n",
    "print (\"Operador *= | El valor de variable 'c' es \", c)\n",
    "\n",
    "c /= a \n",
    "print (\"Operador /= | El valor de variable 'c' es \", c)\n",
    "\n",
    "c = 2\n",
    "c %= a\n",
    "print (\"Operador %= | El valor de variable 'c' es \", c)\n",
    "\n",
    "c **= a\n",
    "print (\"Operador **= | El valor de variable 'c' es \", c)\n",
    "\n",
    "c //= a\n",
    "print (\"Operador //= | El valor de variable 'c' es \", c)"
   ]
  },
  {
   "cell_type": "code",
   "execution_count": null,
   "metadata": {},
   "outputs": [],
   "source": []
  }
 ],
 "metadata": {
  "kernelspec": {
   "display_name": "Python 3",
   "language": "python",
   "name": "python3"
  },
  "language_info": {
   "codemirror_mode": {
    "name": "ipython",
    "version": 3
   },
   "file_extension": ".py",
   "mimetype": "text/x-python",
   "name": "python",
   "nbconvert_exporter": "python",
   "pygments_lexer": "ipython3",
   "version": "3.7.3"
  }
 },
 "nbformat": 4,
 "nbformat_minor": 2
}
